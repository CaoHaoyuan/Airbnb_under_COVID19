{
 "cells": [
  {
   "cell_type": "code",
   "execution_count": 1,
   "metadata": {},
   "outputs": [],
   "source": [
    "import os\n",
    "from scipy.interpolate import interp1d\n",
    "import pandas as pd\n",
    "import plotly.express as px\n",
    "import numpy as np\n",
    "import geopy\n",
    "\n",
    "import airbnb_dataset\n",
    "import config_data"
   ]
  },
  {
   "cell_type": "code",
   "execution_count": null,
   "metadata": {},
   "outputs": [],
   "source": [
    "myABData = airbnb_dataset.AirbnbDataset()\n",
    "ctry_cities = list(config_data.country_to_city.values())\n",
    "state_cities = []\n",
    "states = []\n",
    "for k,v in config_data.US_state_to_city.items():\n",
    "    state_cities.extend(v)\n",
    "    for t in range(len(v)):\n",
    "        states.append(k)"
   ]
  },
  {
   "cell_type": "code",
   "execution_count": null,
   "metadata": {},
   "outputs": [],
   "source": [
    "#need to process reviews in a datewise manner\n",
    "# one csv per month, across all locations\n",
    "alldata=[]\n",
    "cols = [\"city\",\"lat\",\"long\"]\n",
    "for i in range(1,11):\n",
    "    cols.append(\"month\"+str(i))\n",
    "print(cols)"
   ]
  },
  {
   "cell_type": "code",
   "execution_count": null,
   "metadata": {},
   "outputs": [],
   "source": [
    "from geopy.geocoders import Nominatim\n",
    "geolocator = Nominatim(user_agent='myapplication')\n",
    "def getlocation(city):\n",
    "    location = geolocator.geocode(city)\n",
    "    print(location)\n",
    "    ns1 = float(location.raw['boundingbox'][0])\n",
    "    ns2 = float(location.raw['boundingbox'][1])\n",
    "    ew1 = float(location.raw['boundingbox'][2])\n",
    "    ew2 = float(location.raw['boundingbox'][3])\n",
    "    \n",
    "    return (ns1+ns2)/2,(ew1+ew2)/2"
   ]
  },
  {
   "cell_type": "code",
   "execution_count": null,
   "metadata": {},
   "outputs": [],
   "source": [
    "location = geolocator.geocode(\"Twin Cities Minneapolis\")\n",
    "print(location)"
   ]
  },
  {
   "cell_type": "code",
   "execution_count": null,
   "metadata": {},
   "outputs": [],
   "source": [
    "for i,c in enumerate(state_cities):\n",
    "    df = myABData.get_reviews_for_city(c)\n",
    "    df19 = df.loc[2019].values[:-2]\n",
    "    df20 = df.loc[2020].values\n",
    "    rel_diff = [c]\n",
    "    if c == 'Twin Cities MSA':\n",
    "        c = c[:c.rindex(c)]\n",
    "    \n",
    "    lat,long = getlocation(c+' ' + states[i])\n",
    "    rel_diff.append(lat)\n",
    "    rel_diff.append(long)\n",
    "    rel_diff.extend(list(((df19 - df20)/df19).T[0]))\n",
    "    alldata.append(tuple(rel_diff))\n",
    "    \n",
    "monthlydf = pd.DataFrame(alldata, columns=cols)\n",
    "monthlydf = monthlydf.set_index([\"city\"])\n",
    "monthlydf.to_csv(os.path.join(config_data.AIRBNB_DATA_DIR,'US/monthly_reviews.csv'))"
   ]
  },
  {
   "cell_type": "code",
   "execution_count": null,
   "metadata": {},
   "outputs": [],
   "source": [
    "#weekly, 10 months\n",
    "alldata = []\n",
    "cols = [\"city\",\"lat\",\"long\"]\n",
    "\n",
    "min_n_months = 1000\n",
    "for i,c in enumerate(state_cities):\n",
    "    df = myABData.get_reviews_for_city(c,per_week = True,per_month = False)\n",
    "    df20 = df.loc[2020].values[:41]\n",
    "    df19 = df.loc[2019].values[:41]\n",
    "    rel_diff = [c]\n",
    "    if c == 'Twin Cities MSA':\n",
    "        c = c[:c.rindex(' ')]\n",
    "    lat,long = getlocation(c + \" \"+states[i])\n",
    "    rel_diff.append(lat)\n",
    "    rel_diff.append(long)\n",
    "    rel_diff.extend(list(((df19 - df20)/df19).T[0]))\n",
    "    alldata.append(tuple(rel_diff))\n",
    "for i in range(1,42):\n",
    "    cols.append(\"week\"+str(i))\n",
    "weeklydf = pd.DataFrame(alldata,columns = cols)\n",
    "weeklydf.to_csv(os.path.join(config_data.AIRBNB_DATA_DIR,'US/weekly_reviews.csv'))"
   ]
  },
  {
   "cell_type": "code",
   "execution_count": null,
   "metadata": {},
   "outputs": [],
   "source": [
    "#GLOBAL\n",
    "cols = []\n",
    "for i in range(1,42):\n",
    "    cols.append(\"week\"+str(i))\n",
    "df = pd.read_csv(os.path.join(config_data.AIRBNB_DATA_DIR,'GLOBAL/weekly_reviews.csv'))\n",
    "\n",
    "for col in cols:\n",
    "    list1 = df[col].values.tolist()\n",
    "    minval = min(list1)\n",
    "    list1 = list(np.array(list1) - minval)\n",
    "    m = interp1d([0,3.9],[1,50])\n",
    "    circ_rad = m(list1)\n",
    "    fig = px.density_mapbox(df, lat=\"lat\", lon=\"long\",center={'lat':17,'lon':25},radius=circ_rad,zoom=1,mapbox_style=\"stamen-watercolor\",opacity=0.7,width=1000,height=700)\n",
    "    #orange is most affected area\n",
    "    fig.write_image(os.path.join(config_data.AIRBNB_DATA_DIR,f'GLOBAL/{col}.png'))"
   ]
  },
  {
   "cell_type": "code",
   "execution_count": 13,
   "metadata": {},
   "outputs": [],
   "source": [
    "#US\n",
    "cols = []\n",
    "for i in range(1,42):\n",
    "    cols.append(\"week\"+str(i))\n",
    "df = pd.read_csv(os.path.join(config_data.AIRBNB_DATA_DIR,'US/weekly_reviews.csv'))\n",
    "for col in cols:\n",
    "    list1 = df[col].values.tolist()\n",
    "    minval = min(list1)\n",
    "    list1 = list(np.array(list1) - minval)\n",
    "    m = interp1d([0,1.8],[1,50])\n",
    "    circ_rad = m(list1)\n",
    "    fig = px.density_mapbox(df, lat=\"lat\", lon=\"long\",center={'lat':34,'lon':-110},radius=circ_rad,zoom=2.6,mapbox_style=\"stamen-watercolor\",opacity=0.7,width=1000,height=700)\n",
    "    #orange is most affected area\n",
    "    fig.write_image(os.path.join(config_data.AIRBNB_DATA_DIR,f'US/{col}.png'))"
   ]
  },
  {
   "cell_type": "code",
   "execution_count": null,
   "metadata": {},
   "outputs": [],
   "source": []
  }
 ],
 "metadata": {
  "kernelspec": {
   "display_name": "Python 3",
   "language": "python",
   "name": "python3"
  },
  "language_info": {
   "codemirror_mode": {
    "name": "ipython",
    "version": 3
   },
   "file_extension": ".py",
   "mimetype": "text/x-python",
   "name": "python",
   "nbconvert_exporter": "python",
   "pygments_lexer": "ipython3",
   "version": "3.6.9"
  }
 },
 "nbformat": 4,
 "nbformat_minor": 4
}
