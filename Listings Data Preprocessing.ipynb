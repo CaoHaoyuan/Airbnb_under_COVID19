{
 "cells": [
  {
   "cell_type": "code",
   "execution_count": 1,
   "metadata": {},
   "outputs": [],
   "source": [
    "import os\n",
    "import pandas as pd\n",
    "import config_data\n",
    "import datetime\n",
    "from unidecode import unidecode\n",
    "from urllib.parse import unquote\n",
    "\n",
    "TARGET_LISTINGS_DIR = config_data.AIRBNB_DATA_DIR"
   ]
  },
  {
   "cell_type": "code",
   "execution_count": null,
   "metadata": {},
   "outputs": [],
   "source": []
  },
  {
   "cell_type": "code",
   "execution_count": 2,
   "metadata": {},
   "outputs": [],
   "source": [
    "def proc_dirto_row(loc_dir):\n",
    "    #read all CSVs in loc_dir and retrieve the number of unique listings in each CSV\n",
    "    timewise_dict = {}\n",
    "    min_year =2020\n",
    "    min_month = 12\n",
    "    max_year = 0\n",
    "    max_month = 1\n",
    "    for csvfile in os.listdir(loc_dir):\n",
    "        csvfile_fullpath = os.path.join(loc_dir,csvfile)\n",
    "        if csvfile.split('.')[-1] == \"csv\":\n",
    "            try:\n",
    "                df = pd.read_csv(csvfile_fullpath)\n",
    "                csvfile_no_ext = csvfile[:csvfile.rfind('.')]\n",
    "                year, month, day = tuple(csvfile_no_ext.split('-')[-3:])\n",
    "                year = int(year)\n",
    "                month = int(month)\n",
    "                if year <= min_year:\n",
    "                    min_year = year\n",
    "                    if month < min_month:\n",
    "                        min_month = month\n",
    "                if year >= max_year:\n",
    "                    max_year = year\n",
    "                    if month > max_month:\n",
    "                        max_month = month\n",
    "                k = (year, month, 1)\n",
    "                timewise_dict[k]= len(pd.unique(df['id']))\n",
    "#                 print(f\"File Date:{(month,year)} Number of unique listings:{len(pd.unique(df['id']))}\")\n",
    "            except OSError:\n",
    "                print(f\"Skipping {csvfile_fullpath}\")\n",
    "    sorted_by_time = [(k,timewise_dict[k]) for k in sorted(timewise_dict.keys())]\n",
    "    sorted_by_time = sorted_by_time[::-1]\n",
    "    return sorted_by_time"
   ]
  },
  {
   "cell_type": "code",
   "execution_count": 3,
   "metadata": {},
   "outputs": [],
   "source": [
    "def proc_dirto_df(loc_dir):\n",
    "    #generate a df for the location with date, listings\n",
    "    sorted_by_time = proc_dirto_row(loc_dir)\n",
    "    proc_date_list = []\n",
    "    proc_listing_list = []\n",
    "    prev_month=0\n",
    "    prev_year = 0\n",
    "    year = 0\n",
    "    month = 0\n",
    "    prev_n_listings = 0\n",
    "    curr_n_listings = 0\n",
    "    for i in range(len(sorted_by_time)):\n",
    "        prev_month = month\n",
    "        prev_year = year\n",
    "        prev_n_listings = curr_n_listings\n",
    "        year=sorted_by_time[i][0][0]\n",
    "        month=sorted_by_time[i][0][1]\n",
    "        day = sorted_by_time[i][0][2]\n",
    "        curr_n_listings = sorted_by_time[i][1]\n",
    "        if not month == (prev_month-1) and prev_year == year:\n",
    "            #interpolation of n_listings for missing months\n",
    "            for j in range(month+1,prev_month):\n",
    "                interp_month = j\n",
    "                interp_date = str(year) + '-' + str(j) +'-'+str(day)\n",
    "                prev_wt = (j - month) / (prev_month - month)\n",
    "                curr_wt = 1 - prev_wt\n",
    "                interp_listings = int(prev_wt * prev_n_listings + curr_wt * curr_n_listings)\n",
    "                proc_date_list.append((interp_date, interp_listings))\n",
    "                \n",
    "        date = str(year) + '-' + str(month) +'-'+str(day)\n",
    "        proc_date_list.append((date,curr_n_listings))\n",
    "    df = pd.DataFrame(proc_date_list, columns = ['date','n_listings'])\n",
    "    df = df.set_index('date')\n",
    "    return df"
   ]
  },
  {
   "cell_type": "code",
   "execution_count": 6,
   "metadata": {},
   "outputs": [
    {
     "name": "stdout",
     "output_type": "stream",
     "text": [
      "['Asheville', 'Austin', 'Boston', 'Cambridge', 'Broward County', 'Chicago', 'Clark County', 'Columbus', 'Denver', 'Hawaii', 'Jersey City', 'Los Angeles', 'Oakland', 'Pacific Grove', 'San Diego', 'San Francisco', 'San Mateo County', 'Santa Clara County', 'Santa Cruz County', 'Nashville', 'New Orleans', 'New York City', 'Portland', 'Salem', 'Rhode Island', 'Seattle', 'Twin Cities MSA', 'Washington D.C.', 'Munich', 'Madrid', 'Athens', 'Stockholm', 'Edinburgh', 'Shanghai', 'Singapore', 'Tokyo', 'Cape Town', 'Sydney', 'Ottawa', 'Washington D.C.', 'Mexico City', 'Rio de Janeiro', 'Buenos Aires', 'Beijing']\n"
     ]
    }
   ],
   "source": [
    "cities = []\n",
    "for k, v in config_data.US_state_to_city.items():\n",
    "    for t in v:\n",
    "        cities.append(t)\n",
    "for k,v in config_data.country_to_city.items():\n",
    "    cities.append(v)\n",
    "for v in config_data.misc_cities:\n",
    "    cities.append(v)\n",
    "print(cities)"
   ]
  },
  {
   "cell_type": "code",
   "execution_count": 8,
   "metadata": {},
   "outputs": [
    {
     "name": "stdout",
     "output_type": "stream",
     "text": [
      "saved for Ottawa\n",
      "saved for Cambridge\n",
      "saved for Athens\n",
      "saved for Beijing\n",
      "saved for Austin\n",
      "saved for Santa Clara County\n",
      "saved for Jersey City\n",
      "saved for Los Angeles\n",
      "saved for Mexico City\n",
      "saved for Nashville\n",
      "saved for Seattle\n",
      "saved for Singapore\n",
      "saved for San Mateo County\n",
      "saved for New York City\n",
      "saved for Hawaii\n",
      "saved for Tokyo\n",
      "saved for Broward County\n",
      "saved for Twin Cities MSA\n",
      "saved for San Diego\n",
      "saved for San Francisco\n",
      "saved for Santa Cruz County\n",
      "saved for Rhode Island\n",
      "saved for Boston\n",
      "saved for Chicago\n",
      "saved for Clark County\n",
      "saved for Sydney\n",
      "saved for Rio de Janeiro\n",
      "saved for Portland\n",
      "saved for Madrid\n",
      "saved for Denver\n",
      "saved for Asheville\n",
      "saved for Oakland\n",
      "saved for Columbus\n",
      "saved for Buenos Aires\n",
      "saved for Cape Town\n",
      "saved for New Orleans\n",
      "saved for Pacific Grove\n",
      "saved for Munich\n",
      "saved for Shanghai\n",
      "saved for Stockholm\n",
      "saved for Salem\n",
      "saved for Edinburgh\n"
     ]
    }
   ],
   "source": [
    "RAW_DATA_DIR = os.path.join('./Airbnb_Listings_Gz')\n",
    "\n",
    "for loc_dir in os.listdir(RAW_DATA_DIR):\n",
    "    loc_dir_fullpath = os.path.join(RAW_DATA_DIR, loc_dir)\n",
    "#     print(loc_dir_fullpath)\n",
    "    mergedname = unidecode(unquote(loc_dir.replace(\"-\", \"\")))\n",
    "    for city in cities:\n",
    "        citylower_nospace = city.lower().replace(\" \",\"\")\n",
    "        if citylower_nospace in mergedname:\n",
    "#             print(f\"getting df for {city}\")\n",
    "            citydf = proc_dirto_df(loc_dir_fullpath)\n",
    "            df = citydf\n",
    "            #save the df\n",
    "            citydir = os.path.join(TARGET_LISTINGS_DIR,city)\n",
    "            if not os.path.exists(citydir):\n",
    "                os.makedirs(citydir)\n",
    "            df.to_csv(os.path.join(citydir,'listings.csv'))\n",
    "            print(f\"saved for {city}\")"
   ]
  },
  {
   "cell_type": "code",
   "execution_count": null,
   "metadata": {},
   "outputs": [],
   "source": [
    "df = pd.read_csv"
   ]
  },
  {
   "cell_type": "code",
   "execution_count": null,
   "metadata": {},
   "outputs": [],
   "source": [
    "import airbnb_dataset\n",
    "\n",
    "myABData = airbnb_dataset.AirbnbDataset()"
   ]
  }
 ],
 "metadata": {
  "kernelspec": {
   "display_name": "Python 3",
   "language": "python",
   "name": "python3"
  },
  "language_info": {
   "codemirror_mode": {
    "name": "ipython",
    "version": 3
   },
   "file_extension": ".py",
   "mimetype": "text/x-python",
   "name": "python",
   "nbconvert_exporter": "python",
   "pygments_lexer": "ipython3",
   "version": "3.6.9"
  }
 },
 "nbformat": 4,
 "nbformat_minor": 4
}
